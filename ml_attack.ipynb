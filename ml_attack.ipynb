{
 "cells": [
  {
   "cell_type": "code",
   "execution_count": 28,
   "metadata": {},
   "outputs": [],
   "source": [
    "import os\n",
    "import pandas as pd\n",
    "import numpy as np\n",
    "\n",
    "\n",
    "from sklearn.model_selection import train_test_split\n",
    "from sklearn.neighbors import KNeighborsClassifier\n",
    "from sklearn.metrics.pairwise import haversine_distances\n",
    "from sklearn.metrics import accuracy_score\n",
    "\n",
    "\n",
    "import matplotlib.pyplot as plt\n"
   ]
  },
  {
   "cell_type": "code",
   "execution_count": 10,
   "metadata": {},
   "outputs": [],
   "source": [
    "def process_directory(file_directory, use_alternate_columns = False, strategy_ln = True, weights_f = 'uniform', metrics = 'manhattan', num_runs = 1):\n",
    "\n",
    "    all_files = os.listdir(file_directory)\n",
    "    csv_files = [file for file in all_files if file.endswith('.csv')]\n",
    "    #csv_files.sort(0)\n",
    "\n",
    "    bayes_risk = [0] * len(csv_files)\n",
    "\n",
    "    for _ in range(num_runs):\n",
    "\n",
    "        for idx, file_name in enumerate(csv_files):\n",
    "\n",
    "            file_path = os.path.join(file_directory, file_name)\n",
    "            data = pd.read_csv(file_path)\n",
    "\n",
    "            if use_alternate_columns:\n",
    "                observations = data[['reported_lat', 'reported_lon']]\n",
    "            else:\n",
    "                observations = data[['perturbed_latitude', 'perturbed_longitude']]\n",
    "\n",
    "            secrets = data['location_id']\n",
    "\n",
    "            #L = secrets.nunique() #########3 This will be for uniform priors\n",
    "            #Rangom_guessing = (L-1)/L\n",
    "            #### for non uniform priors  Rangom_guessing = 1 - max(P(secrets))\n",
    "\n",
    "            X_train, X_test, y_train, y_test = train_test_split(observations, secrets, test_size=0.20)\n",
    "            \n",
    "            if strategy_ln:\n",
    "                k = round(np.log(len(X_train)))\n",
    "            else:\n",
    "                k = round(np.log10(len(X_train)))\n",
    "            #weights_f = 'distance', 'uniform'\n",
    "            #metrics = manhattan, ‘euclidean’, ‘haversine’, ‘cosine’\n",
    "            knn = KNeighborsClassifier(n_neighbors=k, weights = weights_f, metric=metrics, n_jobs=-1)    \n",
    "\n",
    "            knn.fit(X_train, y_train)\n",
    "\n",
    "            predicted_location = knn.predict(X_test)\n",
    "\n",
    "            bayes_risk[idx] += (1 - accuracy_score(y_test, predicted_location))\n",
    "\n",
    "    bayesRisk_avg = [x / num_runs for x in bayes_risk]\n",
    "\n",
    "    return bayesRisk_avg"
   ]
  },
  {
   "cell_type": "code",
   "execution_count": 13,
   "metadata": {},
   "outputs": [],
   "source": [
    "file_directory = r'C:\\Users\\ss6365\\Desktop\\location_privacy_final\\collected\\machine_learning\\attack1\\laplace\\400'"
   ]
  },
  {
   "cell_type": "code",
   "execution_count": 14,
   "metadata": {},
   "outputs": [
    {
     "data": {
      "text/plain": [
       "[0.43815967523680655,\n",
       " 0.27731168245376636,\n",
       " 0.16986919260261613,\n",
       " 0.14000902119981962,\n",
       " 0.12214704555705913,\n",
       " 0.11078033378439334,\n",
       " 0.11150202976995938,\n",
       " 0.11375732972485342]"
      ]
     },
     "execution_count": 14,
     "metadata": {},
     "output_type": "execute_result"
    }
   ],
   "source": [
    "d=process_directory(file_directory, use_alternate_columns = False, strategy_ln = True, weights_f = 'uniform', metrics = 'manhattan', num_runs = 1)\n",
    "d"
   ]
  },
  {
   "cell_type": "code",
   "execution_count": 15,
   "metadata": {},
   "outputs": [
    {
     "data": {
      "text/plain": [
       "[0.44808299503834015,\n",
       " 0.2694632386107352,\n",
       " 0.13946774921064498,\n",
       " 0.08967072620658545,\n",
       " 0.07153811456923775,\n",
       " 0.06838069463238605,\n",
       " 0.0625169147496617,\n",
       " 0.06567433468651329]"
      ]
     },
     "execution_count": 15,
     "metadata": {},
     "output_type": "execute_result"
    }
   ],
   "source": [
    "d=process_directory(file_directory, use_alternate_columns = False, strategy_ln = False, weights_f = 'uniform', metrics = 'manhattan', num_runs = 1)\n",
    "d"
   ]
  },
  {
   "cell_type": "code",
   "execution_count": 23,
   "metadata": {},
   "outputs": [
    {
     "data": {
      "text/plain": [
       "[0.43509246729815065,\n",
       " 0.2553901668921966,\n",
       " 0.11935047361299056,\n",
       " 0.06152458276950834,\n",
       " 0.03391971132160576,\n",
       " 0.02733423545331526,\n",
       " 0.0262516914749662,\n",
       " 0.018764095624718036]"
      ]
     },
     "execution_count": 23,
     "metadata": {},
     "output_type": "execute_result"
    }
   ],
   "source": [
    "d=process_directory(file_directory, use_alternate_columns = False, strategy_ln = True, weights_f = 'distance', metrics ='manhattan', num_runs = 1)\n",
    "d"
   ]
  },
  {
   "cell_type": "code",
   "execution_count": 24,
   "metadata": {},
   "outputs": [
    {
     "data": {
      "text/plain": [
       "[0.4310329273793414,\n",
       " 0.28362652232746954,\n",
       " 0.17185385656292285,\n",
       " 0.13676138926477222,\n",
       " 0.1200721695985566,\n",
       " 0.11907983761840324,\n",
       " 0.11330626973387459,\n",
       " 0.11204330175913402]"
      ]
     },
     "execution_count": 24,
     "metadata": {},
     "output_type": "execute_result"
    }
   ],
   "source": [
    "d=process_directory(file_directory, use_alternate_columns = False, strategy_ln = True, weights_f = 'uniform', metrics ='manhattan', num_runs = 1)\n",
    "d"
   ]
  },
  {
   "cell_type": "code",
   "execution_count": 26,
   "metadata": {},
   "outputs": [
    {
     "data": {
      "text/plain": [
       "[0.7964817320703653,\n",
       " 0.7079837618403247,\n",
       " 0.6316644113667118,\n",
       " 0.595489400090212,\n",
       " 0.5599458728010825,\n",
       " 0.5351375732972485,\n",
       " 0.5175462336490753,\n",
       " 0.5065403698691926]"
      ]
     },
     "execution_count": 26,
     "metadata": {},
     "output_type": "execute_result"
    }
   ],
   "source": [
    "d=process_directory(file_directory, use_alternate_columns = False, strategy_ln = False, weights_f = 'uniform', metrics ='cosine', num_runs = 1)\n",
    "d"
   ]
  },
  {
   "cell_type": "code",
   "execution_count": 27,
   "metadata": {},
   "outputs": [
    {
     "ename": "NameError",
     "evalue": "name 'display_pdf' is not defined",
     "output_type": "error",
     "traceback": [
      "\u001b[1;31m---------------------------------------------------------------------------\u001b[0m",
      "\u001b[1;31mNameError\u001b[0m                                 Traceback (most recent call last)",
      "Cell \u001b[1;32mIn[27], line 1\u001b[0m\n\u001b[1;32m----> 1\u001b[0m \u001b[43mdisplay_pdf\u001b[49m\n",
      "\u001b[1;31mNameError\u001b[0m: name 'display_pdf' is not defined"
     ]
    }
   ],
   "source": [
    "display_pdf"
   ]
  },
  {
   "cell_type": "code",
   "execution_count": null,
   "metadata": {},
   "outputs": [],
   "source": []
  }
 ],
 "metadata": {
  "kernelspec": {
   "display_name": "Python 3 (ipykernel)",
   "language": "python",
   "name": "python3"
  },
  "language_info": {
   "codemirror_mode": {
    "name": "ipython",
    "version": 3
   },
   "file_extension": ".py",
   "mimetype": "text/x-python",
   "name": "python",
   "nbconvert_exporter": "python",
   "pygments_lexer": "ipython3",
   "version": "3.10.13"
  }
 },
 "nbformat": 4,
 "nbformat_minor": 4
}
