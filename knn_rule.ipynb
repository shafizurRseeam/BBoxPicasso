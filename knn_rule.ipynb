{
 "cells": [
  {
   "cell_type": "code",
   "execution_count": 4,
   "metadata": {},
   "outputs": [],
   "source": [
    "import pandas as pd\n",
    "from sklearn.model_selection import train_test_split\n",
    "from sklearn.neighbors import KNeighborsClassifier\n",
    "from sklearn.metrics import classification_report, accuracy_score\n",
    "from sklearn.preprocessing import StandardScaler\n",
    "import os\n"
   ]
  },
  {
   "cell_type": "code",
   "execution_count": 5,
   "metadata": {},
   "outputs": [
    {
     "data": {
      "text/html": [
       "<div>\n",
       "<style scoped>\n",
       "    .dataframe tbody tr th:only-of-type {\n",
       "        vertical-align: middle;\n",
       "    }\n",
       "\n",
       "    .dataframe tbody tr th {\n",
       "        vertical-align: top;\n",
       "    }\n",
       "\n",
       "    .dataframe thead th {\n",
       "        text-align: right;\n",
       "    }\n",
       "</style>\n",
       "<table border=\"1\" class=\"dataframe\">\n",
       "  <thead>\n",
       "    <tr style=\"text-align: right;\">\n",
       "      <th></th>\n",
       "      <th>longitude</th>\n",
       "      <th>latitude</th>\n",
       "      <th>identifier</th>\n",
       "      <th>perturbed_latitude</th>\n",
       "      <th>perturbed_longitude</th>\n",
       "      <th>lat_bin</th>\n",
       "      <th>lon_bin</th>\n",
       "      <th>location_id</th>\n",
       "    </tr>\n",
       "  </thead>\n",
       "  <tbody>\n",
       "    <tr>\n",
       "      <th>0</th>\n",
       "      <td>-77.680333</td>\n",
       "      <td>43.083838</td>\n",
       "      <td>1.0</td>\n",
       "      <td>43.083840</td>\n",
       "      <td>-77.680344</td>\n",
       "      <td>97</td>\n",
       "      <td>66</td>\n",
       "      <td>19467</td>\n",
       "    </tr>\n",
       "    <tr>\n",
       "      <th>1</th>\n",
       "      <td>-77.680991</td>\n",
       "      <td>43.083803</td>\n",
       "      <td>1.0</td>\n",
       "      <td>43.083827</td>\n",
       "      <td>-77.681023</td>\n",
       "      <td>97</td>\n",
       "      <td>62</td>\n",
       "      <td>19463</td>\n",
       "    </tr>\n",
       "    <tr>\n",
       "      <th>2</th>\n",
       "      <td>-77.681017</td>\n",
       "      <td>43.083802</td>\n",
       "      <td>1.0</td>\n",
       "      <td>43.083831</td>\n",
       "      <td>-77.680987</td>\n",
       "      <td>97</td>\n",
       "      <td>62</td>\n",
       "      <td>19463</td>\n",
       "    </tr>\n",
       "    <tr>\n",
       "      <th>3</th>\n",
       "      <td>-77.681042</td>\n",
       "      <td>43.083802</td>\n",
       "      <td>1.0</td>\n",
       "      <td>43.083767</td>\n",
       "      <td>-77.681051</td>\n",
       "      <td>97</td>\n",
       "      <td>62</td>\n",
       "      <td>19463</td>\n",
       "    </tr>\n",
       "    <tr>\n",
       "      <th>4</th>\n",
       "      <td>-77.681090</td>\n",
       "      <td>43.083802</td>\n",
       "      <td>1.0</td>\n",
       "      <td>43.083803</td>\n",
       "      <td>-77.681167</td>\n",
       "      <td>97</td>\n",
       "      <td>62</td>\n",
       "      <td>19463</td>\n",
       "    </tr>\n",
       "    <tr>\n",
       "      <th>...</th>\n",
       "      <td>...</td>\n",
       "      <td>...</td>\n",
       "      <td>...</td>\n",
       "      <td>...</td>\n",
       "      <td>...</td>\n",
       "      <td>...</td>\n",
       "      <td>...</td>\n",
       "      <td>...</td>\n",
       "    </tr>\n",
       "    <tr>\n",
       "      <th>55420</th>\n",
       "      <td>-77.680445</td>\n",
       "      <td>43.083879</td>\n",
       "      <td>46.0</td>\n",
       "      <td>43.083866</td>\n",
       "      <td>-77.680440</td>\n",
       "      <td>98</td>\n",
       "      <td>65</td>\n",
       "      <td>19666</td>\n",
       "    </tr>\n",
       "    <tr>\n",
       "      <th>55421</th>\n",
       "      <td>-77.680442</td>\n",
       "      <td>43.083868</td>\n",
       "      <td>46.0</td>\n",
       "      <td>43.083876</td>\n",
       "      <td>-77.680448</td>\n",
       "      <td>98</td>\n",
       "      <td>65</td>\n",
       "      <td>19666</td>\n",
       "    </tr>\n",
       "    <tr>\n",
       "      <th>55422</th>\n",
       "      <td>-77.680441</td>\n",
       "      <td>43.083863</td>\n",
       "      <td>46.0</td>\n",
       "      <td>43.083831</td>\n",
       "      <td>-77.680385</td>\n",
       "      <td>98</td>\n",
       "      <td>65</td>\n",
       "      <td>19666</td>\n",
       "    </tr>\n",
       "    <tr>\n",
       "      <th>55423</th>\n",
       "      <td>-77.680442</td>\n",
       "      <td>43.083860</td>\n",
       "      <td>46.0</td>\n",
       "      <td>43.083824</td>\n",
       "      <td>-77.680429</td>\n",
       "      <td>98</td>\n",
       "      <td>65</td>\n",
       "      <td>19666</td>\n",
       "    </tr>\n",
       "    <tr>\n",
       "      <th>55424</th>\n",
       "      <td>-77.680442</td>\n",
       "      <td>43.083850</td>\n",
       "      <td>46.0</td>\n",
       "      <td>43.083863</td>\n",
       "      <td>-77.680430</td>\n",
       "      <td>98</td>\n",
       "      <td>65</td>\n",
       "      <td>19666</td>\n",
       "    </tr>\n",
       "  </tbody>\n",
       "</table>\n",
       "<p>55425 rows × 8 columns</p>\n",
       "</div>"
      ],
      "text/plain": [
       "       longitude   latitude  identifier  perturbed_latitude  \\\n",
       "0     -77.680333  43.083838         1.0           43.083840   \n",
       "1     -77.680991  43.083803         1.0           43.083827   \n",
       "2     -77.681017  43.083802         1.0           43.083831   \n",
       "3     -77.681042  43.083802         1.0           43.083767   \n",
       "4     -77.681090  43.083802         1.0           43.083803   \n",
       "...          ...        ...         ...                 ...   \n",
       "55420 -77.680445  43.083879        46.0           43.083866   \n",
       "55421 -77.680442  43.083868        46.0           43.083876   \n",
       "55422 -77.680441  43.083863        46.0           43.083831   \n",
       "55423 -77.680442  43.083860        46.0           43.083824   \n",
       "55424 -77.680442  43.083850        46.0           43.083863   \n",
       "\n",
       "       perturbed_longitude  lat_bin  lon_bin  location_id  \n",
       "0               -77.680344       97       66        19467  \n",
       "1               -77.681023       97       62        19463  \n",
       "2               -77.680987       97       62        19463  \n",
       "3               -77.681051       97       62        19463  \n",
       "4               -77.681167       97       62        19463  \n",
       "...                    ...      ...      ...          ...  \n",
       "55420           -77.680440       98       65        19666  \n",
       "55421           -77.680448       98       65        19666  \n",
       "55422           -77.680385       98       65        19666  \n",
       "55423           -77.680429       98       65        19666  \n",
       "55424           -77.680430       98       65        19666  \n",
       "\n",
       "[55425 rows x 8 columns]"
      ]
     },
     "execution_count": 5,
     "metadata": {},
     "output_type": "execute_result"
    }
   ],
   "source": [
    "df = pd.read_csv(r'C:\\Users\\ss6365\\Desktop\\location_privacy_final\\collected\\machine_learning\\attack1\\laplace\\200\\merged_laplace_0.1_encoded_200.csv')\n",
    "df"
   ]
  },
  {
   "cell_type": "code",
   "execution_count": 6,
   "metadata": {},
   "outputs": [
    {
     "data": {
      "text/plain": [
       "36"
      ]
     },
     "execution_count": 6,
     "metadata": {},
     "output_type": "execute_result"
    }
   ],
   "source": [
    "df['identifier'].nunique()"
   ]
  },
  {
   "cell_type": "code",
   "execution_count": 7,
   "metadata": {},
   "outputs": [
    {
     "ename": "NameError",
     "evalue": "name 'features' is not defined",
     "output_type": "error",
     "traceback": [
      "\u001b[1;31m---------------------------------------------------------------------------\u001b[0m",
      "\u001b[1;31mNameError\u001b[0m                                 Traceback (most recent call last)",
      "Cell \u001b[1;32mIn[7], line 1\u001b[0m\n\u001b[1;32m----> 1\u001b[0m \u001b[43mfeatures\u001b[49m\n",
      "\u001b[1;31mNameError\u001b[0m: name 'features' is not defined"
     ]
    }
   ],
   "source": [
    "features"
   ]
  },
  {
   "cell_type": "code",
   "execution_count": 19,
   "metadata": {},
   "outputs": [],
   "source": [
    "from sklearn.model_selection import train_test_split\n",
    "from sklearn.neighbors import KNeighborsClassifier\n",
    "from sklearn.preprocessing import StandardScaler\n",
    "import pandas as pd\n",
    "import numpy as np\n",
    "\n",
    "\n",
    "\n",
    "def knn_rule(data , strategy_ln = True, weights_f = 'uniform', metrics = 'manhattan', points_per_trace = 1):\n",
    "\n",
    "    features = data[['perturbed_latitude', 'perturbed_longitude']]\n",
    "    labels = data['location_id']\n",
    "\n",
    "    scaler = StandardScaler()\n",
    "    features_scaled = scaler.fit_transform(features)\n",
    "    features_scaled_df = pd.DataFrame(features_scaled, columns=['perturbed_latitude', 'perturbed_longitude'])\n",
    "\n",
    "    X_train, X_test, y_train, y_test, identifiers_train, identifiers_test = train_test_split(\n",
    "                                            features_scaled_df, labels, data['identifier'], test_size=0.3, random_state=None\n",
    "                                            )\n",
    "\n",
    "    if strategy_ln:\n",
    "        k = round(np.log(len(X_train)))\n",
    "    else:\n",
    "        k = round(np.log10(len(X_train)))\n",
    "    #weights_f = 'distance', 'uniform'\n",
    "    #metrics = manhattan, ‘euclidean’, ‘haversine’, ‘cosine’\n",
    "\n",
    "    knn = KNeighborsClassifier(n_neighbors=k, weights = weights_f, metric=metrics, n_jobs=-1)    \n",
    "\n",
    "    knn.fit(X_train, y_train)\n",
    "\n",
    "    \n",
    "    \n",
    "    # Create a DataFrame for easier manipulation\n",
    "    test_df = pd.DataFrame(X_test, columns=['perturbed_latitude', 'perturbed_longitude'])\n",
    "    test_df['identifier'] = identifiers_test.values\n",
    "    test_df['true_label'] = y_test.values\n",
    "    \n",
    "    trace_accuracies = []\n",
    "    \n",
    "    for identifier, group in test_df.groupby('identifier'):\n",
    "        # Select a subset of the group based on points_per_trace\n",
    "        subset = group.head(points_per_trace)\n",
    "        # Predict the subset\n",
    "        y_pred = knn.predict(subset[['perturbed_latitude', 'perturbed_longitude']])\n",
    "        # Calculate accuracy for this subset\n",
    "        accuracy = np.mean(y_pred == subset['true_label'])\n",
    "        trace_accuracies.append(accuracy)\n",
    "\n",
    "    overall_trace_accuracy = np.mean(trace_accuracies)\n",
    "\n",
    "    return 1-overall_trace_accuracy\n",
    "\n",
    "# Load the data\n",
    "\n"
   ]
  },
  {
   "cell_type": "code",
   "execution_count": 20,
   "metadata": {},
   "outputs": [
    {
     "data": {
      "text/plain": [
       "0.24206349206349187"
      ]
     },
     "execution_count": 20,
     "metadata": {},
     "output_type": "execute_result"
    }
   ],
   "source": [
    "data =  pd.read_csv(r'C:\\Users\\ss6365\\Desktop\\location_privacy_final\\collected\\machine_learning\\attack1\\laplace\\200\\merged_laplace_0.1_encoded_200.csv')\n",
    "knn_rule(data , strategy_ln = True, weights_f = 'uniform', metrics = 'manhattan', points_per_trace = 7)"
   ]
  },
  {
   "cell_type": "code",
   "execution_count": 28,
   "metadata": {},
   "outputs": [],
   "source": [
    "def all_directory_knn(file_directory, strategy_ln = True, weights_f = 'uniform', metrics = 'manhattan', num_runs = 1, points_per_trace = 1):\n",
    "\n",
    "    all_files = os.listdir(file_directory)\n",
    "    csv_files = [file for file in all_files if file.endswith('.csv')]\n",
    "\n",
    "    bayes_risks = [0] * len(csv_files)\n",
    "    \n",
    "    for _ in range(num_runs):\n",
    "\n",
    "        for idx, file_name in enumerate(csv_files):\n",
    "\n",
    "            file_path = os.path.join(file_directory, file_name)\n",
    "            data = pd.read_csv(file_path)\n",
    "\n",
    "            bayes_risk = knn_rule(data , strategy_ln = True, weights_f = 'uniform', metrics = 'manhattan', points_per_trace = 1)\n",
    "            bayes_risks[idx] += bayes_risk\n",
    "            \n",
    "\n",
    "    bayesRisk_avg = [x / num_runs for x in bayes_risks]\n",
    "\n",
    "    return bayesRisk_avg"
   ]
  },
  {
   "cell_type": "code",
   "execution_count": 37,
   "metadata": {},
   "outputs": [
    {
     "data": {
      "text/plain": [
       "[0.2397222222222223]"
      ]
     },
     "execution_count": 37,
     "metadata": {},
     "output_type": "execute_result"
    }
   ],
   "source": [
    "file_directory = r'C:\\Users\\ss6365\\Desktop\\picasso\\data'\n",
    "a=all_directory_knn(file_directory, strategy_ln = True, weights_f = 'distance', metrics = 'euclidean', num_runs = 100, points_per_trace = 1)\n",
    "a"
   ]
  },
  {
   "cell_type": "code",
   "execution_count": 38,
   "metadata": {},
   "outputs": [
    {
     "data": {
      "text/plain": [
       "[0.22611111111111107]"
      ]
     },
     "execution_count": 38,
     "metadata": {},
     "output_type": "execute_result"
    }
   ],
   "source": [
    "file_directory = r'C:\\Users\\ss6365\\Desktop\\picasso\\data'\n",
    "a=all_directory_knn(file_directory, strategy_ln = True, weights_f = 'distance', metrics = 'euclidean', num_runs = 100, points_per_trace = 2)\n",
    "a"
   ]
  },
  {
   "cell_type": "code",
   "execution_count": 39,
   "metadata": {},
   "outputs": [
    {
     "data": {
      "text/plain": [
       "[0.2236111111111111]"
      ]
     },
     "execution_count": 39,
     "metadata": {},
     "output_type": "execute_result"
    }
   ],
   "source": [
    "file_directory = r'C:\\Users\\ss6365\\Desktop\\picasso\\data'\n",
    "a=all_directory_knn(file_directory, strategy_ln = True, weights_f = 'distance', metrics = 'euclidean', num_runs = 100, points_per_trace = 3)\n",
    "a"
   ]
  },
  {
   "cell_type": "code",
   "execution_count": 40,
   "metadata": {},
   "outputs": [
    {
     "data": {
      "text/plain": [
       "[0.20499999999999993]"
      ]
     },
     "execution_count": 40,
     "metadata": {},
     "output_type": "execute_result"
    }
   ],
   "source": [
    "file_directory = r'C:\\Users\\ss6365\\Desktop\\picasso\\data'\n",
    "a=all_directory_knn(file_directory, strategy_ln = True, weights_f = 'distance', metrics = 'euclidean', num_runs = 100, points_per_trace = 10)\n",
    "a"
   ]
  },
  {
   "cell_type": "code",
   "execution_count": 49,
   "metadata": {},
   "outputs": [],
   "source": [
    "def bayes_risk_trace(file_directory, strategy_ln = True, weights_f = 'distance', metrics = 'euclidean', num_runs = 1, trace = 10):\n",
    "\n",
    "    bayes_trace = []\n",
    "\n",
    "    for i in range(trace):\n",
    "        bayes = all_directory_knn(file_directory, strategy_ln = True, weights_f = 'distance', metrics = 'euclidean', num_runs = 1, points_per_trace = i+1)\n",
    "        \n",
    "        bayes_trace.append(bayes)\n",
    "    flattened_list = [item for sublist in bayes_trace for item in sublist]    \n",
    "    return flattened_list "
   ]
  },
  {
   "cell_type": "code",
   "execution_count": 53,
   "metadata": {},
   "outputs": [
    {
     "data": {
      "text/plain": [
       "[0.3055555555555556,\n",
       " 0.2222222222222222,\n",
       " 0.2222222222222222,\n",
       " 0.2777777777777778,\n",
       " 0.2222222222222222]"
      ]
     },
     "execution_count": 53,
     "metadata": {},
     "output_type": "execute_result"
    }
   ],
   "source": [
    "file_directory = r'C:\\Users\\ss6365\\Desktop\\picasso\\data'\n",
    "bayes_risk_trace(file_directory, strategy_ln = True, weights_f = 'distance', metrics = 'euclidean', num_runs = 20, trace = 5)"
   ]
  },
  {
   "cell_type": "code",
   "execution_count": null,
   "metadata": {},
   "outputs": [],
   "source": [
    "# import pandas as pd\n",
    "# import numpy as np\n",
    "# from sklearn.model_selection import train_test_split\n",
    "# from sklearn.neighbors import KNeighborsClassifier\n",
    "# from sklearn.preprocessing import StandardScaler\n",
    "# from itertools import islice\n",
    "\n",
    "# def sliding_window(seq, n=2):\n",
    "#     \"Returns a sliding window (of width n) over data from the iterable\"\n",
    "#     it = iter(seq)\n",
    "#     result = tuple(islice(it, n))\n",
    "#     if len(result) == n:\n",
    "#         yield result\n",
    "#     for elem in it:\n",
    "#         result = result[1:] + (elem,)\n",
    "#         yield result\n",
    "\n",
    "# def knn_rule(data, strategy_ln=True, weights_f='uniform', metrics='manhattan', points_per_trace=1):\n",
    "#     # Prepare features and labels\n",
    "#     features = data[['perturbed_latitude', 'perturbed_longitude']]\n",
    "#     labels = data['location_id']\n",
    "\n",
    "#     # Scale the features\n",
    "#     scaler = StandardScaler()\n",
    "#     features_scaled = scaler.fit_transform(features)\n",
    "#     features_scaled_df = pd.DataFrame(features_scaled, columns=['perturbed_latitude', 'perturbed_longitude'])\n",
    "\n",
    "#     # Split the data into training and testing sets\n",
    "#     X_train, X_test, y_train, y_test, identifiers_train, identifiers_test = train_test_split(\n",
    "#         features_scaled_df, labels, data['identifier'], test_size=0.3, random_state=None\n",
    "#     )\n",
    "\n",
    "#     # Determine k using logarithmic strategy\n",
    "#     if strategy_ln:\n",
    "#         k = round(np.log(len(X_train)))\n",
    "#     else:\n",
    "#         k = round(np.log10(len(X_train)))\n",
    "\n",
    "#     # Initialize and train the k-NN classifier\n",
    "#     knn = KNeighborsClassifier(n_neighbors=k, weights=weights_f, metric=metrics, n_jobs=-1)\n",
    "#     knn.fit(X_train, y_train)\n",
    "\n",
    "#     # Create a DataFrame for easier manipulation of test data\n",
    "#     test_df = pd.DataFrame(X_test, columns=['perturbed_latitude', 'perturbed_longitude'])\n",
    "#     test_df['identifier'] = identifiers_test.values\n",
    "#     test_df['true_label'] = y_test.values\n",
    "\n",
    "#     # Evaluate trace accuracy using a sliding window approach\n",
    "#     trace_accuracies = []\n",
    "#     for identifier, group in test_df.groupby('identifier'):\n",
    "#         group_list = group.to_dict('records')  # Convert group to list of dicts for sliding window\n",
    "#         for subset in sliding_window(group_list, points_per_trace):\n",
    "#             subset_df = pd.DataFrame(subset)  # Convert each window to DataFrame\n",
    "#             y_pred = knn.predict(subset_df[['perturbed_latitude', 'perturbed_longitude']])\n",
    "#             accuracy = np.mean(y_pred == subset_df['true_label'])\n",
    "#             trace_accuracies.append(accuracy)\n",
    "\n",
    "#     # Calculate and return the overall trace-based error rate\n",
    "#     overall_trace_accuracy = np.mean(trace_accuracies)\n",
    "#     return 1 - overall_trace_accuracy\n",
    "\n",
    "# # Load the data\n",
    "# data = pd.read_csv(r'C:\\Users\\ss6365\\Desktop\\location_privacy_final\\collected\\machine_learning\\attack1\\laplace\\200\\merged_laplace_0.1_encoded_200.csv')\n",
    "# # Run the KNN rule with specific parameters\n",
    "# error_rate = knn_rule(data, strategy_ln=True, weights_f='uniform', metrics='manhattan', points_per_trace=7)\n",
    "# print(f\"Overall Trace-Based Error Rate: {error_rate}\")\n"
   ]
  },
  {
   "cell_type": "code",
   "execution_count": null,
   "metadata": {},
   "outputs": [],
   "source": []
  }
 ],
 "metadata": {
  "kernelspec": {
   "display_name": "Python 3 (ipykernel)",
   "language": "python",
   "name": "python3"
  },
  "language_info": {
   "codemirror_mode": {
    "name": "ipython",
    "version": 3
   },
   "file_extension": ".py",
   "mimetype": "text/x-python",
   "name": "python",
   "nbconvert_exporter": "python",
   "pygments_lexer": "ipython3",
   "version": "3.10.13"
  }
 },
 "nbformat": 4,
 "nbformat_minor": 4
}
