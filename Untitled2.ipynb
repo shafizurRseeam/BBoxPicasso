{
 "cells": [
  {
   "cell_type": "code",
   "execution_count": 22,
   "id": "07e27613-2ebe-4ba1-898a-8d61aade5e3c",
   "metadata": {},
   "outputs": [],
   "source": [
    "import pandas as pd"
   ]
  },
  {
   "cell_type": "code",
   "execution_count": 42,
   "id": "76c80d2e-bb17-4b49-85c3-10690e664134",
   "metadata": {},
   "outputs": [
    {
     "data": {
      "text/html": [
       "<div>\n",
       "<style scoped>\n",
       "    .dataframe tbody tr th:only-of-type {\n",
       "        vertical-align: middle;\n",
       "    }\n",
       "\n",
       "    .dataframe tbody tr th {\n",
       "        vertical-align: top;\n",
       "    }\n",
       "\n",
       "    .dataframe thead th {\n",
       "        text-align: right;\n",
       "    }\n",
       "</style>\n",
       "<table border=\"1\" class=\"dataframe\">\n",
       "  <thead>\n",
       "    <tr style=\"text-align: right;\">\n",
       "      <th></th>\n",
       "      <th>longitude</th>\n",
       "      <th>latitude</th>\n",
       "      <th>identifier</th>\n",
       "    </tr>\n",
       "  </thead>\n",
       "  <tbody>\n",
       "    <tr>\n",
       "      <th>0</th>\n",
       "      <td>116.39714</td>\n",
       "      <td>39.94757</td>\n",
       "      <td>1</td>\n",
       "    </tr>\n",
       "    <tr>\n",
       "      <th>1</th>\n",
       "      <td>116.40070</td>\n",
       "      <td>39.90440</td>\n",
       "      <td>2</td>\n",
       "    </tr>\n",
       "    <tr>\n",
       "      <th>2</th>\n",
       "      <td>116.40255</td>\n",
       "      <td>39.91160</td>\n",
       "      <td>2</td>\n",
       "    </tr>\n",
       "    <tr>\n",
       "      <th>3</th>\n",
       "      <td>116.40261</td>\n",
       "      <td>39.91164</td>\n",
       "      <td>2</td>\n",
       "    </tr>\n",
       "    <tr>\n",
       "      <th>4</th>\n",
       "      <td>116.40044</td>\n",
       "      <td>39.90342</td>\n",
       "      <td>2</td>\n",
       "    </tr>\n",
       "    <tr>\n",
       "      <th>...</th>\n",
       "      <td>...</td>\n",
       "      <td>...</td>\n",
       "      <td>...</td>\n",
       "    </tr>\n",
       "    <tr>\n",
       "      <th>70757</th>\n",
       "      <td>116.42419</td>\n",
       "      <td>39.93530</td>\n",
       "      <td>6947</td>\n",
       "    </tr>\n",
       "    <tr>\n",
       "      <th>70758</th>\n",
       "      <td>116.43078</td>\n",
       "      <td>39.93959</td>\n",
       "      <td>6947</td>\n",
       "    </tr>\n",
       "    <tr>\n",
       "      <th>70759</th>\n",
       "      <td>116.43711</td>\n",
       "      <td>39.93974</td>\n",
       "      <td>6947</td>\n",
       "    </tr>\n",
       "    <tr>\n",
       "      <th>70760</th>\n",
       "      <td>116.41907</td>\n",
       "      <td>39.94891</td>\n",
       "      <td>6947</td>\n",
       "    </tr>\n",
       "    <tr>\n",
       "      <th>70761</th>\n",
       "      <td>116.41847</td>\n",
       "      <td>39.94832</td>\n",
       "      <td>6947</td>\n",
       "    </tr>\n",
       "  </tbody>\n",
       "</table>\n",
       "<p>70762 rows × 3 columns</p>\n",
       "</div>"
      ],
      "text/plain": [
       "       longitude  latitude  identifier\n",
       "0      116.39714  39.94757           1\n",
       "1      116.40070  39.90440           2\n",
       "2      116.40255  39.91160           2\n",
       "3      116.40261  39.91164           2\n",
       "4      116.40044  39.90342           2\n",
       "...          ...       ...         ...\n",
       "70757  116.42419  39.93530        6947\n",
       "70758  116.43078  39.93959        6947\n",
       "70759  116.43711  39.93974        6947\n",
       "70760  116.41907  39.94891        6947\n",
       "70761  116.41847  39.94832        6947\n",
       "\n",
       "[70762 rows x 3 columns]"
      ]
     },
     "execution_count": 42,
     "metadata": {},
     "output_type": "execute_result"
    }
   ],
   "source": [
    "df = pd.read_csv(r'C:\\Users\\ss6365\\Desktop\\location_privacy_final\\tdrive\\data\\\\merged_all_security_subset_3km.csv')\n",
    "df"
   ]
  },
  {
   "cell_type": "code",
   "execution_count": 43,
   "id": "32f84841-3db1-458f-a2a9-a021f80ef0b3",
   "metadata": {},
   "outputs": [],
   "source": [
    "import numpy as np\n",
    "\n",
    "def haversine(lat1, lon1, lat2, lon2):\n",
    "    # Convert degrees to radians\n",
    "    lat1, lon1, lat2, lon2 = map(np.radians, [lat1, lon1, lat2, lon2])\n",
    "\n",
    "    # Haversine formula\n",
    "    dlat = lat2 - lat1\n",
    "    dlon = lon2 - lon1\n",
    "    a = np.sin(dlat/2)**2 + np.cos(lat1) * np.cos(lat2) * np.sin(dlon/2)**2\n",
    "    c = 2 * np.arcsin(np.sqrt(a))\n",
    "    r = 6371  # Radius of Earth in kilometers\n",
    "    return c * r\n",
    "\n",
    "def calculate_trajectory_details(df):\n",
    "    results = []\n",
    "    \n",
    "    # Group by identifier and calculate distances between consecutive points\n",
    "    for identifier, group in df.groupby('identifier'):\n",
    "        total_length = 0.0\n",
    "        distances = []\n",
    "        # Calculate distance between each pair of consecutive points using haversine\n",
    "        for i in range(1, len(group)):\n",
    "            lat1, lon1 = group.iloc[i-1]['latitude'], group.iloc[i-1]['longitude']\n",
    "            lat2, lon2 = group.iloc[i]['latitude'], group.iloc[i]['longitude']\n",
    "            dist = haversine(lat1, lon1, lat2, lon2)\n",
    "            distances.append(dist)\n",
    "            total_length += dist\n",
    "        \n",
    "        # Calculate average distance if there are any distances computed\n",
    "        average_distance = np.mean(distances) if distances else 0\n",
    "        results.append({\n",
    "            'identifier': identifier,\n",
    "            'trajectory_length_km': total_length,\n",
    "            'average_distance_km': average_distance\n",
    "        })\n",
    "    \n",
    "    return pd.DataFrame(results)\n",
    "\n",
    "# Calculate trajectory lengths and average distances\n",
    "trajectory_details_df = calculate_trajectory_details(df)\n"
   ]
  },
  {
   "cell_type": "code",
   "execution_count": 44,
   "id": "2795749e-5507-45ba-8152-c47d8024fb33",
   "metadata": {},
   "outputs": [
    {
     "data": {
      "text/html": [
       "<div>\n",
       "<style scoped>\n",
       "    .dataframe tbody tr th:only-of-type {\n",
       "        vertical-align: middle;\n",
       "    }\n",
       "\n",
       "    .dataframe tbody tr th {\n",
       "        vertical-align: top;\n",
       "    }\n",
       "\n",
       "    .dataframe thead th {\n",
       "        text-align: right;\n",
       "    }\n",
       "</style>\n",
       "<table border=\"1\" class=\"dataframe\">\n",
       "  <thead>\n",
       "    <tr style=\"text-align: right;\">\n",
       "      <th></th>\n",
       "      <th>identifier</th>\n",
       "      <th>trajectory_length_km</th>\n",
       "      <th>average_distance_km</th>\n",
       "    </tr>\n",
       "  </thead>\n",
       "  <tbody>\n",
       "    <tr>\n",
       "      <th>0</th>\n",
       "      <td>1</td>\n",
       "      <td>0.000000</td>\n",
       "      <td>0.000000</td>\n",
       "    </tr>\n",
       "    <tr>\n",
       "      <th>1</th>\n",
       "      <td>2</td>\n",
       "      <td>8.368339</td>\n",
       "      <td>1.673668</td>\n",
       "    </tr>\n",
       "    <tr>\n",
       "      <th>2</th>\n",
       "      <td>5</td>\n",
       "      <td>0.000000</td>\n",
       "      <td>0.000000</td>\n",
       "    </tr>\n",
       "    <tr>\n",
       "      <th>3</th>\n",
       "      <td>8</td>\n",
       "      <td>0.000000</td>\n",
       "      <td>0.000000</td>\n",
       "    </tr>\n",
       "    <tr>\n",
       "      <th>4</th>\n",
       "      <td>9</td>\n",
       "      <td>114.749372</td>\n",
       "      <td>1.247276</td>\n",
       "    </tr>\n",
       "    <tr>\n",
       "      <th>...</th>\n",
       "      <td>...</td>\n",
       "      <td>...</td>\n",
       "      <td>...</td>\n",
       "    </tr>\n",
       "    <tr>\n",
       "      <th>2650</th>\n",
       "      <td>6930</td>\n",
       "      <td>20.988370</td>\n",
       "      <td>1.908034</td>\n",
       "    </tr>\n",
       "    <tr>\n",
       "      <th>2651</th>\n",
       "      <td>6937</td>\n",
       "      <td>5.087386</td>\n",
       "      <td>5.087386</td>\n",
       "    </tr>\n",
       "    <tr>\n",
       "      <th>2652</th>\n",
       "      <td>6940</td>\n",
       "      <td>8.418561</td>\n",
       "      <td>0.841856</td>\n",
       "    </tr>\n",
       "    <tr>\n",
       "      <th>2653</th>\n",
       "      <td>6944</td>\n",
       "      <td>26.058182</td>\n",
       "      <td>1.240866</td>\n",
       "    </tr>\n",
       "    <tr>\n",
       "      <th>2654</th>\n",
       "      <td>6947</td>\n",
       "      <td>5.719140</td>\n",
       "      <td>0.635460</td>\n",
       "    </tr>\n",
       "  </tbody>\n",
       "</table>\n",
       "<p>2655 rows × 3 columns</p>\n",
       "</div>"
      ],
      "text/plain": [
       "      identifier  trajectory_length_km  average_distance_km\n",
       "0              1              0.000000             0.000000\n",
       "1              2              8.368339             1.673668\n",
       "2              5              0.000000             0.000000\n",
       "3              8              0.000000             0.000000\n",
       "4              9            114.749372             1.247276\n",
       "...          ...                   ...                  ...\n",
       "2650        6930             20.988370             1.908034\n",
       "2651        6937              5.087386             5.087386\n",
       "2652        6940              8.418561             0.841856\n",
       "2653        6944             26.058182             1.240866\n",
       "2654        6947              5.719140             0.635460\n",
       "\n",
       "[2655 rows x 3 columns]"
      ]
     },
     "execution_count": 44,
     "metadata": {},
     "output_type": "execute_result"
    }
   ],
   "source": [
    "trajectory_details_df"
   ]
  },
  {
   "cell_type": "code",
   "execution_count": 45,
   "id": "b32d3846-0001-4aae-88dc-1fdf7a906be4",
   "metadata": {},
   "outputs": [
    {
     "data": {
      "text/plain": [
       "48660.303396177274"
      ]
     },
     "execution_count": 45,
     "metadata": {},
     "output_type": "execute_result"
    }
   ],
   "source": [
    "trajectory_details_df['trajectory_length_km'].sum()"
   ]
  },
  {
   "cell_type": "code",
   "execution_count": 46,
   "id": "0ca6f1bb-1771-4534-96c1-6e0aaa2d12df",
   "metadata": {},
   "outputs": [
    {
     "data": {
      "text/plain": [
       "1011.4373149170941"
      ]
     },
     "execution_count": 46,
     "metadata": {},
     "output_type": "execute_result"
    }
   ],
   "source": [
    "trajectory_details_df['average_distance_km'].mean()*1000"
   ]
  },
  {
   "cell_type": "code",
   "execution_count": 47,
   "id": "482a9d62-4ccc-4d05-8d5f-86616b271db2",
   "metadata": {},
   "outputs": [
    {
     "data": {
      "text/plain": [
       "70762"
      ]
     },
     "execution_count": 47,
     "metadata": {},
     "output_type": "execute_result"
    }
   ],
   "source": [
    "len(df)"
   ]
  },
  {
   "cell_type": "code",
   "execution_count": null,
   "id": "0c081474-2a51-4a29-a1d0-b8e7872b0687",
   "metadata": {},
   "outputs": [],
   "source": []
  },
  {
   "cell_type": "code",
   "execution_count": null,
   "id": "df9a1cf3-a1f2-47bf-b65a-32b8801910a5",
   "metadata": {},
   "outputs": [],
   "source": []
  }
 ],
 "metadata": {
  "kernelspec": {
   "display_name": "Python 3 (ipykernel)",
   "language": "python",
   "name": "python3"
  },
  "language_info": {
   "codemirror_mode": {
    "name": "ipython",
    "version": 3
   },
   "file_extension": ".py",
   "mimetype": "text/x-python",
   "name": "python",
   "nbconvert_exporter": "python",
   "pygments_lexer": "ipython3",
   "version": "3.10.13"
  }
 },
 "nbformat": 4,
 "nbformat_minor": 5
}
